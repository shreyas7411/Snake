{
 "cells": [
  {
   "cell_type": "markdown",
   "metadata": {},
   "source": [
    "Snake Game "
   ]
  },
  {
   "cell_type": "code",
   "execution_count": 1,
   "metadata": {},
   "outputs": [],
   "source": [
    "import sys\n",
    "import os\n",
    "from IPython.display import clear_output\n",
    "import random\n"
   ]
  },
  {
   "cell_type": "code",
   "execution_count": 2,
   "metadata": {},
   "outputs": [],
   "source": [
    "\n",
    "class snake:\n",
    "    def __init__(self,yborder,xborder):\n",
    "        self.position = [[0,0],[0,1],[0,2]] #last coordinate is head, position in (y,x) form, -Y-X quadrant (i.e. (0,0) at top left)\n",
    "        self.yborder = yborder #border of the game (more precisely, border in which the snake can move)\n",
    "        self.xborder = xborder\n",
    "\n",
    "    def updated_position(self, key):\n",
    "        temp = self.position[-1]\n",
    "        self.key = key\n",
    "        for i in range(len(self.position)-1):\n",
    "            self.position[i] = self.position[i+1]\n",
    "        #if input = 0: Auto moving, to be completed later\n",
    "\n",
    "        if self.key == 'w':\n",
    "            self.position[-1] = [temp[0]-1,temp[1]]\n",
    "        if self.key == 'a':\n",
    "            self.position[-1] = [temp[0],temp[1]-1]\n",
    "        if self.key == 's':\n",
    "            self.position[-1] = [temp[0]+1,temp[1]]\n",
    "        if self.key == 'd':\n",
    "            self.position[-1] = [temp[0],temp[1]+1]\n",
    "\n",
    "    def check_for_death(self): #will try something faster\n",
    "        for i in range(len(self.position)):\n",
    "            if self.position[i][0]<0 or self.position[i][1]<0:\n",
    "                sys.exit('death')\n",
    "            if self.position[i][0]>=self.yborder or self.position[i][1]>=self.xborder:\n",
    "                sys.exit('death')\n",
    "            for j in range(i+1,len(self.position)):\n",
    "                if self.position[i] == self.position[j]: #suicide allowed\n",
    "                    sys.exit(\"death\")\n",
    "    \n",
    "    def eat(self, nutrition_obtained):#n is the amount by which the snake's length will increase\n",
    "        for i in range(nutrition_obtained): #there's a bug where the player will die if they eat an apple and the length increases past the border\n",
    "            #Also the tail might extend right into the head killing the player\n",
    "            #Also, currently tail extends left no matter what need to rewrite \n",
    "            self.position = [[self.position[0][0],self.position[0][1]-1]] + self.position\n",
    "\n",
    "class food():\n",
    "    def __init__(self,nutrition,position): #nutrition is the amount by which it will increase snake length\n",
    "        self.nutrition = nutrition\n",
    "        self.position = position\n",
    "\n"
   ]
  },
  {
   "cell_type": "code",
   "execution_count": 3,
   "metadata": {},
   "outputs": [
    {
     "name": "stdout",
     "output_type": "stream",
     "text": [
      "0 2\n",
      "\n",
      "_ox_________________\n",
      "____________________\n",
      "____________________\n",
      "____________________\n",
      "_______________a____"
     ]
    },
    {
     "ename": "SystemExit",
     "evalue": "death",
     "output_type": "error",
     "traceback": [
      "An exception has occurred, use %tb to see the full traceback.\n",
      "\u001b[1;31mSystemExit\u001b[0m\u001b[1;31m:\u001b[0m death\n"
     ]
    },
    {
     "name": "stderr",
     "output_type": "stream",
     "text": [
      "C:\\Users\\SHREYAS\\AppData\\Roaming\\Python\\Python310\\site-packages\\IPython\\core\\interactiveshell.py:3386: UserWarning: To exit: use 'exit', 'quit', or Ctrl-D.\n",
      "  warn(\"To exit: use 'exit', 'quit', or Ctrl-D.\", stacklevel=1)\n"
     ]
    }
   ],
   "source": [
    "#Game Start\n",
    "\n",
    "xyz=0\n",
    "xborder=20\n",
    "yborder=5\n",
    "snake1 = snake(yborder,xborder)\n",
    "apple1 = food(1,[random.randrange(0,yborder),random.randrange(0,xborder)])\n",
    "#initialisation\n",
    "matrix = [['_' for i in range(xborder)] for j in range(yborder)]\n",
    "for i in range(len(snake1.position) - 1):\n",
    "    matrix[snake1.position[i][0]][snake1.position[i][1]] = 'o'\n",
    "matrix[snake1.position[-1][0]][snake1.position[-1][1]] = 'x'\n",
    "matrix[apple1.position[0]][apple1.position[1]] = 'a'\n",
    "for i in range(yborder):\n",
    "        print()\n",
    "        for j in range(xborder):\n",
    "            print(matrix[i][j],end='')\n",
    "\n",
    "while(xyz==0):\n",
    "      \n",
    "    key = input(\"move\")\n",
    "    clear_output(wait=True)\n",
    "    for i in range(len(snake1.position)):\n",
    "        matrix[snake1.position[i][0]][snake1.position[i][1]] = '_' \n",
    "    snake1.updated_position(key)\n",
    "    for i in range(len(snake1.position) - 1):\n",
    "        matrix[snake1.position[i][0]][snake1.position[i][1]] = 'o'\n",
    "    print(snake1.position[-1][0],snake1.position[-1][1])\n",
    "    matrix[snake1.position[-1][0]][snake1.position[-1][1]] = 'x'\n",
    "    if snake1.position[-1] == apple1.position:\n",
    "        matrix[apple1.position[0]][apple1.position[1]] = '_'\n",
    "        snake1.eat(apple1.nutrition)\n",
    "        matrix[snake1.position[0][0]][snake1.position[0][1]] = 'o'\n",
    "        restart = True #So apple is not on snake\n",
    "        while(restart == True):\n",
    "            apple1.position = [random.randrange(0,yborder),random.randrange(0,xborder)]\n",
    "            if matrix[apple1.position[0]][apple1.position[1]] == '_':\n",
    "                matrix[apple1.position[0]][apple1.position[1]] = 'a'\n",
    "                restart = False\n",
    "    for i in range(yborder):\n",
    "        print()\n",
    "        for j in range(xborder):\n",
    "            print(matrix[i][j],end='')\n",
    "    snake1.check_for_death()\n",
    "\n",
    "    "
   ]
  }
 ],
 "metadata": {
  "kernelspec": {
   "display_name": "Python 3.10.5 64-bit",
   "language": "python",
   "name": "python3"
  },
  "language_info": {
   "codemirror_mode": {
    "name": "ipython",
    "version": 3
   },
   "file_extension": ".py",
   "mimetype": "text/x-python",
   "name": "python",
   "nbconvert_exporter": "python",
   "pygments_lexer": "ipython3",
   "version": "3.10.5"
  },
  "orig_nbformat": 4,
  "vscode": {
   "interpreter": {
    "hash": "60dc0f9a491412ab9920bba37c822f68af7222d282c012d5e65a94336e689c16"
   }
  }
 },
 "nbformat": 4,
 "nbformat_minor": 2
}
